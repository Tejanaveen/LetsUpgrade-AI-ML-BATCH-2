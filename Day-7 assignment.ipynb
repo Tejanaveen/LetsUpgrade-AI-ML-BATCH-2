{
 "cells": [
  {
   "cell_type": "markdown",
   "metadata": {},
   "source": [
    "# Question 1"
   ]
  },
  {
   "cell_type": "code",
   "execution_count": 1,
   "metadata": {},
   "outputs": [
    {
     "name": "stdout",
     "output_type": "stream",
     "text": [
      "Hello LetsUpgrade\n",
      "\n",
      "This is Day-7 assignment question 1 answer\n"
     ]
    }
   ],
   "source": [
    "f1=open(\"one.txt\",'w')\n",
    "f1.write(\"Hello LetsUpgrade\\n\")\n",
    "f1.write(\"This is Day-7 assignment question 1 answer\")\n",
    "f1=open(\"one.txt\",'r')\n",
    "for line in f1:\n",
    "    print(line)\n",
    "f1.close()"
   ]
  },
  {
   "cell_type": "code",
   "execution_count": 2,
   "metadata": {},
   "outputs": [
    {
     "name": "stdout",
     "output_type": "stream",
     "text": [
      "Hello LetsUpgrade\n",
      "\n",
      "This is Day-7 assignment question 1 answer\n"
     ]
    }
   ],
   "source": [
    "f=open(\"one.txt\",'r')\n",
    "f2=open(\"copy.txt\",'w')\n",
    "for line in f:\n",
    "    f2.write(line)\n",
    "f2=open(\"copy.txt\",'r')\n",
    "for line in f2:\n",
    "    print(line)\n",
    "f2.close()"
   ]
  },
  {
   "cell_type": "markdown",
   "metadata": {},
   "source": [
    "# Question 2"
   ]
  },
  {
   "cell_type": "code",
   "execution_count": 3,
   "metadata": {},
   "outputs": [
    {
     "name": "stdout",
     "output_type": "stream",
     "text": [
      "562 55\n"
     ]
    }
   ],
   "source": [
    "maximum=1\n",
    "minimum=0\n",
    "d={\"1\":64,\"2\":61,\"3\":55,\"4\":562}\n",
    "for i in d:\n",
    "    if(d[i]>maximum):\n",
    "        maximum=d[i]\n",
    "    else:\n",
    "        minimum=d[i]\n",
    "print(maximum,minimum)"
   ]
  },
  {
   "cell_type": "code",
   "execution_count": null,
   "metadata": {},
   "outputs": [],
   "source": []
  }
 ],
 "metadata": {
  "kernelspec": {
   "display_name": "Python 3",
   "language": "python",
   "name": "python3"
  },
  "language_info": {
   "codemirror_mode": {
    "name": "ipython",
    "version": 3
   },
   "file_extension": ".py",
   "mimetype": "text/x-python",
   "name": "python",
   "nbconvert_exporter": "python",
   "pygments_lexer": "ipython3",
   "version": "3.8.3"
  }
 },
 "nbformat": 4,
 "nbformat_minor": 4
}
