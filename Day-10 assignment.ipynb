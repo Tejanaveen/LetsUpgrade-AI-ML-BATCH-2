{
 "cells": [
  {
   "cell_type": "markdown",
   "metadata": {},
   "source": [
    "# Question 1"
   ]
  },
  {
   "cell_type": "code",
   "execution_count": 1,
   "metadata": {},
   "outputs": [
    {
     "name": "stdout",
     "output_type": "stream",
     "text": [
      "[False False False  True]\n",
      "[False False  True  True]\n",
      "[ True  True False False]\n",
      "[ True  True  True False]\n"
     ]
    }
   ],
   "source": [
    "import numpy as np\n",
    "a=np.array([1,2,3,4])\n",
    "b=np.array([5,4,3,2])\n",
    "# Greater\n",
    "print(np.greater(a,b))\n",
    "# Greater and equal\n",
    "print(np.greater_equal(a,b))\n",
    "# Less\n",
    "print(np.less(a,b))\n",
    "# Less and equal\n",
    "print(np.less_equal(a,b))"
   ]
  },
  {
   "cell_type": "markdown",
   "metadata": {},
   "source": [
    "# Question 2"
   ]
  },
  {
   "cell_type": "code",
   "execution_count": 2,
   "metadata": {},
   "outputs": [
    {
     "name": "stdout",
     "output_type": "stream",
     "text": [
      "[[0. 0. 0. 0. 0. 0. 0. 0. 0. 0.]\n",
      " [0. 0. 0. 0. 0. 0. 0. 0. 0. 0.]\n",
      " [0. 0. 0. 0. 0. 0. 0. 0. 0. 0.]\n",
      " [0. 0. 0. 0. 0. 0. 0. 0. 0. 0.]\n",
      " [0. 0. 0. 0. 0. 0. 0. 0. 0. 0.]\n",
      " [0. 0. 0. 0. 0. 0. 0. 0. 0. 0.]\n",
      " [0. 0. 0. 0. 0. 0. 0. 0. 0. 0.]\n",
      " [0. 0. 0. 0. 0. 0. 0. 0. 0. 0.]\n",
      " [0. 0. 0. 0. 0. 0. 0. 0. 0. 0.]\n",
      " [0. 0. 0. 0. 0. 0. 0. 0. 0. 0.]]\n",
      "[[1. 1. 1. 1. 1. 1. 1. 1. 1. 1.]\n",
      " [1. 1. 1. 1. 1. 1. 1. 1. 1. 1.]\n",
      " [1. 1. 1. 1. 1. 1. 1. 1. 1. 1.]\n",
      " [1. 1. 1. 1. 1. 1. 1. 1. 1. 1.]\n",
      " [1. 1. 1. 1. 1. 1. 1. 1. 1. 1.]\n",
      " [1. 1. 1. 1. 1. 1. 1. 1. 1. 1.]\n",
      " [1. 1. 1. 1. 1. 1. 1. 1. 1. 1.]\n",
      " [1. 1. 1. 1. 1. 1. 1. 1. 1. 1.]\n",
      " [1. 1. 1. 1. 1. 1. 1. 1. 1. 1.]\n",
      " [1. 1. 1. 1. 1. 1. 1. 1. 1. 1.]]\n",
      "[[5 5 5 5 5 5 5 5 5 5]\n",
      " [5 5 5 5 5 5 5 5 5 5]\n",
      " [5 5 5 5 5 5 5 5 5 5]\n",
      " [5 5 5 5 5 5 5 5 5 5]\n",
      " [5 5 5 5 5 5 5 5 5 5]\n",
      " [5 5 5 5 5 5 5 5 5 5]\n",
      " [5 5 5 5 5 5 5 5 5 5]\n",
      " [5 5 5 5 5 5 5 5 5 5]\n",
      " [5 5 5 5 5 5 5 5 5 5]\n",
      " [5 5 5 5 5 5 5 5 5 5]]\n"
     ]
    }
   ],
   "source": [
    "# To create an array consist of all elements as zeros.\n",
    "import numpy as np\n",
    "a=np.zeros((10,10))\n",
    "print(a)\n",
    "# To create an array consist of all elements as ones.\n",
    "b=np.ones((10,10))\n",
    "print(b)\n",
    "# To create an array consist of all elements as fives.\n",
    "c=np.full((10,10),5)\n",
    "print(c)"
   ]
  },
  {
   "cell_type": "markdown",
   "metadata": {},
   "source": [
    "# Question 3"
   ]
  },
  {
   "cell_type": "code",
   "execution_count": 3,
   "metadata": {},
   "outputs": [
    {
     "name": "stdout",
     "output_type": "stream",
     "text": [
      "36\n",
      "[ 6  8 10 12]\n",
      "[10 26]\n"
     ]
    }
   ],
   "source": [
    "# Program for sum of all elements in array using Numpy.\n",
    "import numpy as np\n",
    "a=np.array([[1,2,3,4],[5,6,7,8]])\n",
    "print(np.sum(a))\n",
    "# Program for sum of each column \n",
    "print(np.sum(a,axis=0))\n",
    "# Program for sum of each row\n",
    "print(np.sum(a,axis=1))"
   ]
  },
  {
   "cell_type": "markdown",
   "metadata": {},
   "source": [
    "# Question 4"
   ]
  },
  {
   "cell_type": "code",
   "execution_count": 4,
   "metadata": {},
   "outputs": [
    {
     "name": "stdout",
     "output_type": "stream",
     "text": [
      "[[12 14 16 18]\n",
      " [20 22 24 26]]\n",
      "[[-10 -10 -10 -10]\n",
      " [-10 -10 -10 -10]]\n",
      "[[ 11  24  39  56]\n",
      " [ 75  96 119 144]]\n",
      "[[0.09090909 0.16666667 0.23076923 0.28571429]\n",
      " [0.33333333 0.375      0.41176471 0.44444444]]\n"
     ]
    }
   ],
   "source": [
    "from scipy.special import exp10\n",
    "b=np.array([[11,12,13,14],[15,16,17,18]])\n",
    "# For addition\n",
    "print(a+b)\n",
    "# For Subtracction\n",
    "print(a-b)\n",
    "# For Multiplication\n",
    "print(a*b)\n",
    "# For Division\n",
    "print(a/b)"
   ]
  },
  {
   "cell_type": "markdown",
   "metadata": {},
   "source": [
    "# Question 5"
   ]
  },
  {
   "cell_type": "code",
   "execution_count": 5,
   "metadata": {},
   "outputs": [
    {
     "name": "stdout",
     "output_type": "stream",
     "text": [
      "[[ 0.61960655  0.081017   -0.45757255]\n",
      " [-0.12751503 -0.23178104 -0.33604706]\n",
      " [-0.87463661 -0.54457908 -0.21452156]]\n",
      "[[ 0.22531486 -0.38005775  0.01456963]\n",
      " [-0.46778738  0.48834781 -0.555517  ]\n",
      " [-0.16088961 -0.64324662 -0.12560363]]\n",
      "[[ 4.28672251  1.3120424  -1.66263771]\n",
      " [ 0.80873414  0.55708001  0.30542588]\n",
      " [-2.66925423 -0.19788237  2.27348948]]\n"
     ]
    }
   ],
   "source": [
    "from scipy import linalg\n",
    "a=np.array([[10,20,30],[40,50,60],[70,80,90]])\n",
    "# Sine values of an array\n",
    "print(linalg.sinm(a))\n",
    "# cosine values of an array\n",
    "print(linalg.cosm(a))\n",
    "# Tan values of an array\n",
    "print(linalg.tanm(a))"
   ]
  },
  {
   "cell_type": "markdown",
   "metadata": {},
   "source": [
    "# Question 6"
   ]
  },
  {
   "cell_type": "code",
   "execution_count": 6,
   "metadata": {},
   "outputs": [
    {
     "name": "stdout",
     "output_type": "stream",
     "text": [
      "      name  score  attempts qualify\n",
      "0     Teja   12.5         1     yes\n",
      "1     sasi    9.0         3      no\n",
      "2     ravi    6.5         2     yes\n",
      "3  koushik    0.0         3      no\n",
      "4    priya    9.0         2      no\n",
      "5  sahithi   20.0         3     yes\n",
      "6    varun   14.5         1     yes\n",
      "7     ravi    0.0         1      no\n",
      "8     uday    8.0         2      no\n",
      "9   nikhil   19.0         1     yes\n"
     ]
    }
   ],
   "source": [
    "import pandas as pd\n",
    "import numpy as np\n",
    "details={'name':['Teja','sasi','ravi','koushik','priya','sahithi','varun','ravi','uday','nikhil'],\n",
    "        'score':[12.5,9,6.5,0,9,20,14.5,0,8,19],\n",
    "        'attempts':[1,3,2,3,2,3,1,1,2,1],\n",
    "        'qualify':['yes','no','yes','no','no','yes','yes','no','no','yes']}\n",
    "df = pd.DataFrame(details)\n",
    "print(df)"
   ]
  },
  {
   "cell_type": "markdown",
   "metadata": {},
   "source": [
    "# Question  7"
   ]
  },
  {
   "cell_type": "code",
   "execution_count": 7,
   "metadata": {},
   "outputs": [
    {
     "name": "stdout",
     "output_type": "stream",
     "text": [
      "      name  score\n",
      "0     Teja   12.5\n",
      "1     sasi    9.0\n",
      "2     ravi    6.5\n",
      "3  koushik    0.0\n",
      "4    priya    9.0\n",
      "5  sahithi   20.0\n",
      "6    varun   14.5\n",
      "7     ravi    0.0\n",
      "8     uday    8.0\n",
      "9   nikhil   19.0\n"
     ]
    }
   ],
   "source": [
    "print(df[['name','score']])"
   ]
  },
  {
   "cell_type": "markdown",
   "metadata": {},
   "source": [
    "# Question 8"
   ]
  },
  {
   "cell_type": "code",
   "execution_count": 8,
   "metadata": {},
   "outputs": [
    {
     "name": "stdout",
     "output_type": "stream",
     "text": [
      "      name  score  attempts qualify       Phone    country\n",
      "0     Teja   12.5         1     yes  9381698893      India\n",
      "1     sasi    9.0         3      no  1595643545      italy\n",
      "2     ravi    6.5         2     yes  8646943212  australia\n",
      "3  koushik    0.0         3      no  7568712323     africa\n",
      "4    priya    9.0         2      no  4569853262      india\n",
      "5  sahithi   20.0         3     yes  8523697412  sri lanka\n",
      "6    varun   14.5         1     yes  8963257412      india\n",
      "7     ravi    0.0         1      no  7896541236      india\n",
      "8     uday    8.0         2      no  7896542321      india\n",
      "9   nikhil   19.0         1     yes  8965423156      india\n"
     ]
    }
   ],
   "source": [
    "import pandas as pd\n",
    "details={'name':['Teja','sasi','ravi','koushik','priya','sahithi','varun','ravi','uday','nikhil'],\n",
    "        'score':[12.5,9,6.5,0,9,20,14.5,0,8,19],\n",
    "        'attempts':[1,3,2,3,2,3,1,1,2,1],\n",
    "        'qualify':['yes','no','yes','no','no','yes','yes','no','no','yes']}\n",
    "df = pd.DataFrame(details)\n",
    "df1=pd.DataFrame({'Phone':[9381698893,1595643545,8646943212,7568712323,4569853262,8523697412,8963257412,7896541236,7896542321,8965423156],\n",
    "                 'country':['India','italy','australia','africa','india','sri lanka','india','india','india','india']})\n",
    "print(pd.concat([df,df1],axis=1))"
   ]
  },
  {
   "cell_type": "markdown",
   "metadata": {},
   "source": [
    "# Question 9"
   ]
  },
  {
   "cell_type": "code",
   "execution_count": 9,
   "metadata": {},
   "outputs": [
    {
     "name": "stdout",
     "output_type": "stream",
     "text": [
      "    name  score  attempts  qualify\n",
      "0  False  False     False    False\n",
      "1  False  False     False    False\n",
      "2  False  False     False    False\n",
      "3  False  False     False    False\n",
      "4  False  False     False    False\n",
      "5  False  False     False    False\n",
      "6  False  False     False    False\n",
      "7  False  False     False    False\n",
      "8  False  False     False    False\n",
      "9  False  False     False    False\n"
     ]
    }
   ],
   "source": [
    "print(df.isna())"
   ]
  },
  {
   "cell_type": "markdown",
   "metadata": {},
   "source": [
    "# Quesion 10"
   ]
  },
  {
   "cell_type": "code",
   "execution_count": 10,
   "metadata": {},
   "outputs": [
    {
     "name": "stdout",
     "output_type": "stream",
     "text": [
      "0    1\n",
      "1    2\n",
      "2    3\n",
      "3    4\n",
      "4    5\n",
      "dtype: int64\n"
     ]
    }
   ],
   "source": [
    "series=pd.Series([1,2,3,4,5])\n",
    "print(series)"
   ]
  },
  {
   "cell_type": "code",
   "execution_count": null,
   "metadata": {},
   "outputs": [],
   "source": []
  }
 ],
 "metadata": {
  "kernelspec": {
   "display_name": "Python 3",
   "language": "python",
   "name": "python3"
  },
  "language_info": {
   "codemirror_mode": {
    "name": "ipython",
    "version": 3
   },
   "file_extension": ".py",
   "mimetype": "text/x-python",
   "name": "python",
   "nbconvert_exporter": "python",
   "pygments_lexer": "ipython3",
   "version": "3.8.3"
  }
 },
 "nbformat": 4,
 "nbformat_minor": 4
}
