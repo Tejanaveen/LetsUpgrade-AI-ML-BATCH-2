{
 "cells": [
  {
   "cell_type": "markdown",
   "metadata": {},
   "source": [
    "## Question 1"
   ]
  },
  {
   "cell_type": "code",
   "execution_count": 1,
   "metadata": {},
   "outputs": [
    {
     "name": "stdout",
     "output_type": "stream",
     "text": [
      "Confusion matrix: \n",
      " [[2 2]\n",
      " [1 5]]\n"
     ]
    }
   ],
   "source": [
    "from sklearn.metrics import confusion_matrix\n",
    "from sklearn.metrics import classification_report\n",
    "actual=[1,0,0,1,0,0,1,0,0,1]\n",
    "predicted=[1,0,0,1,0,0,0,1,0,0]\n",
    "matrix=confusion_matrix(actual,predicted, labels=[1,0])\n",
    "print('Confusion matrix: \\n',matrix)"
   ]
  },
  {
   "cell_type": "markdown",
   "metadata": {},
   "source": [
    "## Question 2"
   ]
  },
  {
   "cell_type": "code",
   "execution_count": 2,
   "metadata": {},
   "outputs": [
    {
     "name": "stdout",
     "output_type": "stream",
     "text": [
      "Accuracy: 0.74\n",
      "Precision: 0.84\n",
      "Recall: 0.7\n",
      "F1_score: 1.082251082251082\n"
     ]
    }
   ],
   "source": [
    "TP=42\n",
    "TN=32\n",
    "FP=8\n",
    "FN=18\n",
    "accuracy=(TP+TN)/(TP+TN+FP+FN)\n",
    "print('Accuracy:',accuracy)\n",
    "precision=TP/(TP+FP)\n",
    "print('Precision:',precision)\n",
    "recall=TP/(TP+FN)\n",
    "print('Recall:',recall)\n",
    "f1_score=2/precision*recall/(precision+recall)\n",
    "print(\"F1_score:\",f1_score)"
   ]
  },
  {
   "cell_type": "code",
   "execution_count": null,
   "metadata": {},
   "outputs": [],
   "source": []
  }
 ],
 "metadata": {
  "kernelspec": {
   "display_name": "Python 3",
   "language": "python",
   "name": "python3"
  },
  "language_info": {
   "codemirror_mode": {
    "name": "ipython",
    "version": 3
   },
   "file_extension": ".py",
   "mimetype": "text/x-python",
   "name": "python",
   "nbconvert_exporter": "python",
   "pygments_lexer": "ipython3",
   "version": "3.7.6"
  }
 },
 "nbformat": 4,
 "nbformat_minor": 4
}
