{
 "cells": [
  {
   "cell_type": "markdown",
   "metadata": {},
   "source": [
    "# Quesion 1"
   ]
  },
  {
   "cell_type": "code",
   "execution_count": 1,
   "metadata": {},
   "outputs": [
    {
     "name": "stdout",
     "output_type": "stream",
     "text": [
      "1 3 5 7 11 13 17 19 23 29 31 37 41 43 47 53 59 61 67 71 "
     ]
    }
   ],
   "source": [
    "count=0\n",
    "for i in range(0,100):\n",
    "    if(i%2!=0 and count<20):\n",
    "        for j in range(2,i):\n",
    "            if(i%j==0):\n",
    "                break\n",
    "        else:\n",
    "            print(i,end=\" \")\n",
    "            count=count+1"
   ]
  },
  {
   "cell_type": "markdown",
   "metadata": {},
   "source": [
    "# Question 2"
   ]
  },
  {
   "cell_type": "code",
   "execution_count": 2,
   "metadata": {},
   "outputs": [
    {
     "name": "stdout",
     "output_type": "stream",
     "text": [
      "India : The String is alphanumeric.\n",
      "1234 : The String contains only digits.\n",
      "abcd : String contains only alphabetic characters.\n",
      "    : String contains only whitespace characters.\n",
      "ABCD : All letters in the string are uppercase.\n",
      "abcd : All letters in the string are lowercase.\n",
      "AbCd : Convert String in lowercase: abcd\n",
      "AbCd : Convert String in uppercase: ABCD\n",
      "Left Strip: Abcd\n",
      "Left Strip with Character A: bcd\n",
      "Right Strip: Abcd     \n",
      "Right Strip with Character a: Abcd\n",
      "Strip from both side : Abcd\n",
      "True\n",
      "False\n",
      "2\n",
      "Hello Python\n"
     ]
    }
   ],
   "source": [
    "user_string = \"India\"\n",
    "if user_string.isalnum():\n",
    "    print(user_string, ': The String is alphanumeric.')\n",
    "user_string = \"1234\"\n",
    "if user_string.isdigit():\n",
    "    print(user_string, ': The String contains only digits.')\n",
    "user_string = \"abcd\"\n",
    "if user_string.isalpha():\n",
    "    print(user_string, ': String contains only alphabetic characters.')\n",
    "user_string = \"   \"\n",
    "if user_string.isspace():\n",
    "    print(user_string, ': String contains only whitespace characters.')\n",
    "user_string = \"ABCD\"\n",
    "if user_string.isupper():\n",
    "    print(user_string, ': All letters in the string are uppercase.')\n",
    "user_string = \"abcd\"\n",
    "if user_string.islower():\n",
    "    print(user_string, ': All letters in the string are lowercase.')\n",
    "user_string = \"AbCd\"\n",
    "Lower = user_string.lower()\n",
    "print(user_string, ': Convert String in lowercase:', Lower) \n",
    "Upper = user_string.upper()\n",
    "print(user_string, ': Convert String in uppercase:', Upper)\n",
    "user_string = \"   Abcd\"\n",
    "print('Left Strip:', user_string.lstrip())\n",
    "user_string = \"Abcd\"\n",
    "print('Left Strip with Character A:',user_string.lstrip('A'))\n",
    "user_string = \"Abcd     \"\n",
    "print('Right Strip:',user_string.rstrip('A'))\n",
    "user_string = \"Abcd\"\n",
    "print('Right Strip with Character a:',user_string.rstrip('a'))\n",
    "user_string = \"   Abcd    \"\n",
    "print('Strip from both side :',user_string.strip())\n",
    "user_string = \"abcd\"\n",
    "print(user_string.endswith('cd'))\n",
    "print(user_string.startswith('cd'))\n",
    "user_string = \"abcdef\"\n",
    "print(user_string.find('cd'))\n",
    "user_string = \"Hello World\"\n",
    "print(user_string.replace(\"World\",\"Python\"))"
   ]
  },
  {
   "cell_type": "markdown",
   "metadata": {},
   "source": [
    "# Question 3"
   ]
  },
  {
   "cell_type": "code",
   "execution_count": 3,
   "metadata": {},
   "outputs": [
    {
     "name": "stdout",
     "output_type": "stream",
     "text": [
      "malayalam\n",
      "It is a palindrome\n"
     ]
    }
   ],
   "source": [
    "s=input()\n",
    "if(s==s[::-1]):\n",
    "    print(\"It is a palindrome\")\n",
    "else:\n",
    "    s2=input()\n",
    "    s3=sorted(s)\n",
    "    s4=sorted(s2)\n",
    "    if(s3==s4):\n",
    "        print(\"It is a anagram\")\n",
    "    else:\n",
    "        print(\"None of them\")"
   ]
  },
  {
   "cell_type": "markdown",
   "metadata": {},
   "source": [
    "# Question 4"
   ]
  },
  {
   "cell_type": "code",
   "execution_count": 4,
   "metadata": {},
   "outputs": [
    {
     "name": "stdout",
     "output_type": "stream",
     "text": [
      "Result string is: drdarshaningleaimltrainer\n"
     ]
    }
   ],
   "source": [
    "def replace(s):\n",
    "    list = ['!','@',\"#\",\"$\",'%','^','&','*','(',')','+','_','?','.',':','-',\" \"]\n",
    "    for i in list : \n",
    "        s=s.replace(i,'')\n",
    "        s=s.lower()\n",
    "    print(\"Result string is:\",s)\n",
    "string_5 = 'Dr. Darshan Ingle @AI-ML Trainer'\n",
    "replace(string_5)"
   ]
  },
  {
   "cell_type": "code",
   "execution_count": null,
   "metadata": {},
   "outputs": [],
   "source": []
  }
 ],
 "metadata": {
  "kernelspec": {
   "display_name": "Python 3",
   "language": "python",
   "name": "python3"
  },
  "language_info": {
   "codemirror_mode": {
    "name": "ipython",
    "version": 3
   },
   "file_extension": ".py",
   "mimetype": "text/x-python",
   "name": "python",
   "nbconvert_exporter": "python",
   "pygments_lexer": "ipython3",
   "version": "3.8.3"
  }
 },
 "nbformat": 4,
 "nbformat_minor": 4
}
