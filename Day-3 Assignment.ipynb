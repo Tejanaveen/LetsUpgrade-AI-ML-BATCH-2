{
 "cells": [
  {
   "cell_type": "markdown",
   "metadata": {},
   "source": [
    "# 1)Subtraction of Imaginary Numbers"
   ]
  },
  {
   "cell_type": "code",
   "execution_count": 1,
   "metadata": {},
   "outputs": [
    {
     "data": {
      "text/plain": [
       "(-2-2j)"
      ]
     },
     "execution_count": 1,
     "metadata": {},
     "output_type": "execute_result"
    }
   ],
   "source": [
    "#input imaginary values\n",
    "img1=2+3j\n",
    "img2=4+5j\n",
    "#calculating the difference of imaginary numbers\n",
    "img1-img2"
   ]
  },
  {
   "cell_type": "markdown",
   "metadata": {},
   "source": [
    "# 2)Fourth Root of a Number"
   ]
  },
  {
   "cell_type": "code",
   "execution_count": 2,
   "metadata": {},
   "outputs": [
    {
     "name": "stdout",
     "output_type": "stream",
     "text": [
      "2.0\n"
     ]
    }
   ],
   "source": [
    "#input number\n",
    "number=16\n",
    "#calucaltion of fourth root of input number\n",
    "fourth_root=number**0.25\n",
    "#printing the result\n",
    "print(fourth_root)"
   ]
  },
  {
   "cell_type": "markdown",
   "metadata": {},
   "source": [
    "# 3)Swapping of Numbers with Temporary Value"
   ]
  },
  {
   "cell_type": "code",
   "execution_count": 4,
   "metadata": {},
   "outputs": [
    {
     "name": "stdout",
     "output_type": "stream",
     "text": [
      "Swapping of a and b is 3 2\n"
     ]
    }
   ],
   "source": [
    "#input numbers\n",
    "a=2\n",
    "b=3\n",
    "#swap the input numbers\n",
    "c=a\n",
    "a=b\n",
    "b=c\n",
    "#printing the result\n",
    "print(\"Swapping of a and b is\",a,b)"
   ]
  },
  {
   "cell_type": "markdown",
   "metadata": {},
   "source": [
    "# 4)Swapping of Numbers without Temporary Value"
   ]
  },
  {
   "cell_type": "code",
   "execution_count": 6,
   "metadata": {},
   "outputs": [
    {
     "name": "stdout",
     "output_type": "stream",
     "text": [
      "Swapping of a and b is 3 2\n"
     ]
    }
   ],
   "source": [
    "#input numbers\n",
    "a=2\n",
    "b=3\n",
    "#swap the input numbers without third variable\n",
    "a=a+b\n",
    "b=a-b\n",
    "a=a-b\n",
    "#printing the result\n",
    "print(\"Swapping of a and b is\",a,b)"
   ]
  },
  {
   "cell_type": "markdown",
   "metadata": {},
   "source": [
    "# 5)Convert Fahrenheit to Kelvin and Celcius"
   ]
  },
  {
   "cell_type": "code",
   "execution_count": 8,
   "metadata": {},
   "outputs": [
    {
     "name": "stdout",
     "output_type": "stream",
     "text": [
      "100 degrees fahrenheit in celcius and kelvin is 37.77777777777778 310.92777777777775\n"
     ]
    }
   ],
   "source": [
    "#input fahrenheit value\n",
    "f=100\n",
    "#converting it into celcius\n",
    "c=(f-32)*(5/9)\n",
    "#converting into kelvin\n",
    "k=c+273.15\n",
    "#printing the result\n",
    "print(f,\"degrees fahrenheit in celcius and kelvin is\",c,k)"
   ]
  },
  {
   "cell_type": "markdown",
   "metadata": {},
   "source": [
    "# 6)Printing the Datatype of different values using type() function"
   ]
  },
  {
   "cell_type": "code",
   "execution_count": 11,
   "metadata": {},
   "outputs": [
    {
     "name": "stdout",
     "output_type": "stream",
     "text": [
      "<class 'int'>\n",
      "<class 'float'>\n",
      "<class 'str'>\n",
      "<class 'complex'>\n"
     ]
    }
   ],
   "source": [
    "#printing the type of datatypes\n",
    "print(type(2))\n",
    "print(type(2.3))\n",
    "print(type(\"2.3\"))\n",
    "print(type(2+3j))"
   ]
  }
 ],
 "metadata": {
  "kernelspec": {
   "display_name": "Python 3",
   "language": "python",
   "name": "python3"
  },
  "language_info": {
   "codemirror_mode": {
    "name": "ipython",
    "version": 3
   },
   "file_extension": ".py",
   "mimetype": "text/x-python",
   "name": "python",
   "nbconvert_exporter": "python",
   "pygments_lexer": "ipython3",
   "version": "3.7.6"
  }
 },
 "nbformat": 4,
 "nbformat_minor": 4
}
